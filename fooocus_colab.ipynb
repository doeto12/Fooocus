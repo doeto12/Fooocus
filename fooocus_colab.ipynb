Ipip install pygit2-1.12.2
Acd /content
Igit clone https://github.com/111yasviel/Fococus.git
Ncd /content/Fooocus/models/upscale models/ luget -0 fooocus_upscaler_54099855.bin https://huggingface.co/Lttyasviel/misc/resc
Ncd /content/Fooocus
Epython entry_with_update-py -share
